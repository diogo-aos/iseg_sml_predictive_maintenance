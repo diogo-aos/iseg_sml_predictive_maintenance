{
 "cells": [
  {
   "cell_type": "code",
   "execution_count": null,
   "id": "64e0086f-4fd4-4044-b7bf-72ebd1b0e3ed",
   "metadata": {},
   "outputs": [],
   "source": [
    "import pandas as pd\n",
    "import matplotlib.pyplot as plt\n",
    "import numpy as np"
   ]
  },
  {
   "cell_type": "markdown",
   "id": "706a64c3-38b1-4e47-ac79-99da772c2a0e",
   "metadata": {},
   "source": [
    "# 1. Data exploration"
   ]
  },
  {
   "cell_type": "markdown",
   "id": "6fee7bb2-65ac-470f-b2b5-3e9b2e2389f1",
   "metadata": {},
   "source": [
    "## 1.1. Load data"
   ]
  },
  {
   "cell_type": "code",
   "execution_count": null,
   "id": "99bbde42-74bb-40de-b6c9-321a63a37b00",
   "metadata": {},
   "outputs": [],
   "source": [
    "datafiles = !ls data/*"
   ]
  },
  {
   "cell_type": "code",
   "execution_count": null,
   "id": "328272fc-1153-4da5-8540-24151485d36a",
   "metadata": {},
   "outputs": [],
   "source": [
    "datasets = {}\n",
    "for fn in datafiles:\n",
    "    dataset_name = fn.split('/')[-1].rstrip('.csv')\n",
    "    datasets[dataset_name] = pd.read_csv(fn)\n",
    "\n",
    "for name, dataset in datasets.items():\n",
    "    print('\\n'*3, name, '\\n')\n",
    "    print(dataset)"
   ]
  },
  {
   "cell_type": "code",
   "execution_count": null,
   "id": "ee72b434-d06f-4063-a922-ae7a48ce27ff",
   "metadata": {},
   "outputs": [],
   "source": [
    "(datasets['replacement_data'].shape[0] + datasets['repair_data'].shape[0]) == datasets['planned_data'].shape[0]"
   ]
  },
  {
   "cell_type": "markdown",
   "id": "b91ae5e3-7e0c-4343-81b5-c623bc3ae82c",
   "metadata": {},
   "source": [
    "The planned data seems to contain all the repair and replacement events.\n",
    "\n",
    "Let's combine replacements, repairs and planned datasets."
   ]
  },
  {
   "cell_type": "markdown",
   "id": "39271781-3ffd-4e74-a57a-07810e55708d",
   "metadata": {},
   "source": [
    "## 1.2. Join all datasets in 2 tables (events, assets)"
   ]
  },
  {
   "cell_type": "markdown",
   "id": "6e485b77-8779-4b03-92d8-840c02c436c7",
   "metadata": {},
   "source": [
    "### 1.2.1. Join events"
   ]
  },
  {
   "cell_type": "markdown",
   "id": "33587591-2343-4cb5-b262-9355b434ff4a",
   "metadata": {},
   "source": [
    "To combine these tables, we will:\n",
    "1. We'll need to first add a column to repair_data and replacement_data to indicate the type of event.\n",
    "2. All columns are the same, so we can concatenate repair and replacement events.\n",
    "3. Inner join events with planned data. We just need the planned column.\n",
    "\n",
    "Let's call this new dataset \"events\"."
   ]
  },
  {
   "cell_type": "code",
   "execution_count": null,
   "id": "a790ddb0-ef7c-4883-952b-0ddf66ea6887",
   "metadata": {},
   "outputs": [],
   "source": [
    "datasets['replacement_data']['type'] = 'replacement'\n",
    "datasets['repair_data']['type'] = 'repair'"
   ]
  },
  {
   "cell_type": "code",
   "execution_count": null,
   "id": "be09a18e-8bba-4dba-8189-a416964f6ad2",
   "metadata": {},
   "outputs": [],
   "source": [
    "datasets['all_events_data'] = pd.concat([datasets['replacement_data'], datasets['repair_data']])"
   ]
  },
  {
   "cell_type": "code",
   "execution_count": null,
   "id": "2a830ce7-0d3c-4105-b2bf-3bbaaa8ec5ba",
   "metadata": {},
   "outputs": [],
   "source": [
    "events = pd.merge(datasets['all_events_data'], datasets['planned_data'], how='inner', on=['event_id', 'asset_id', 'event_date'])"
   ]
  },
  {
   "cell_type": "code",
   "execution_count": null,
   "id": "3bce5ef1-38e2-49e0-a8f3-ebf0d5d998ec",
   "metadata": {},
   "outputs": [],
   "source": [
    "date_cols = ['event_date', 'installed_date']\n",
    "for col in date_cols:\n",
    "    events[col] = pd.to_datetime(events[col])"
   ]
  },
  {
   "cell_type": "code",
   "execution_count": null,
   "id": "3082aa4a-bf9a-416d-941d-6e0ac60e8d02",
   "metadata": {},
   "outputs": [],
   "source": [
    "events.sort_values(by=['asset_id', 'event_date'])"
   ]
  },
  {
   "cell_type": "markdown",
   "id": "8bd26a75-740c-4801-b2ee-e8999c448754",
   "metadata": {},
   "source": [
    "### 1.2.2 Join assets"
   ]
  },
  {
   "cell_type": "markdown",
   "id": "34037067-e86b-4a46-b22c-7ee71e2367f9",
   "metadata": {},
   "source": [
    "Let's join the attributes of the assets in a single table:\n",
    "- asset_attribute_data_general\n",
    "- asset_attribute_data_usage\n",
    "- asset_attribute_data_weather\n",
    "- asset_data\n",
    "\n",
    "Let's call this new dataset \"assets\"."
   ]
  },
  {
   "cell_type": "code",
   "execution_count": null,
   "id": "c80c7585-4f59-42de-a02d-710b2a027f58",
   "metadata": {},
   "outputs": [],
   "source": [
    "assets = pd.merge(datasets['asset_attribute_data_general'], datasets['asset_attribute_data_usage'], on='asset_id')\n",
    "assets = pd.merge(assets, datasets['asset_attribute_data_weather'], on='asset_id')\n",
    "assets = pd.merge(assets, datasets['asset_data'], on='asset_id')"
   ]
  },
  {
   "cell_type": "code",
   "execution_count": null,
   "id": "05fcfaf8-7455-4e57-81cc-0395fd4ef3f5",
   "metadata": {},
   "outputs": [],
   "source": [
    "date_cols = ['end_date', 'start_date']\n",
    "for col in date_cols:\n",
    "    assets[col] = pd.to_datetime(assets[col])"
   ]
  },
  {
   "cell_type": "code",
   "execution_count": null,
   "id": "2e5bc660-6710-4e64-a170-5c3a1205e1cd",
   "metadata": {},
   "outputs": [],
   "source": [
    "assets['operation_period'] = assets['end_date'] - assets['start_date']"
   ]
  },
  {
   "cell_type": "code",
   "execution_count": null,
   "id": "c1cfbf4d-98c7-4ae2-b491-0b1f5082e253",
   "metadata": {},
   "outputs": [],
   "source": [
    "assets"
   ]
  },
  {
   "cell_type": "markdown",
   "id": "93044aed-44b2-45a0-b2b6-8dcdd18796b2",
   "metadata": {},
   "source": [
    "## 1.3. Check for gaps in datasets"
   ]
  },
  {
   "cell_type": "markdown",
   "id": "143e8a1b-f6a9-4a0b-af6b-d7e3fd76f0eb",
   "metadata": {},
   "source": [
    "Now we have only 2 tables to work with. One refers to data about maintenance events, the other about asset attributes.\n",
    "\n",
    "Let's check if there are gaps in the data:\n",
    "- Do all assets have maintenance events? If not, why?\n",
    "- Are there events refering to missing assets? These might need to be discarded depending on the following analysis."
   ]
  },
  {
   "cell_type": "code",
   "execution_count": null,
   "id": "6bc23118-47fd-4a72-994f-0f700975e472",
   "metadata": {},
   "outputs": [],
   "source": [
    "# do all assets have maintenance events?\n",
    "assets_that_broke = events['asset_id'].unique()\n",
    "print('Assets that have replacement or repair events:', len(assets_that_broke))\n",
    "\n",
    "print('Total number of assets:', assets.shape[0])\n",
    "\n",
    "assets_without_events = assets[assets['asset_id'].isin(assets_that_broke) == False]"
   ]
  },
  {
   "cell_type": "code",
   "execution_count": null,
   "id": "abe0ccc3-6ebf-43dd-88b3-9681a3e4865b",
   "metadata": {},
   "outputs": [],
   "source": [
    "assets_without_events"
   ]
  },
  {
   "cell_type": "code",
   "execution_count": null,
   "id": "05ffae2a-e33e-46eb-bf7c-4a8102abf344",
   "metadata": {},
   "outputs": [],
   "source": [
    "assets.describe()"
   ]
  },
  {
   "cell_type": "markdown",
   "id": "8b3bec1b-4c88-44b8-a024-6539a06df30c",
   "metadata": {},
   "source": [
    "Of the 200 registered assets, we have maintenance events on 194.\n",
    "Looking at the data from the 6 that didn't have incidents, no pattern is identified about their attributes.\n",
    "Different teams installed them, they have different materials, locations, weather and were operational on different years.\n",
    "The only similarity is that all these assets have an operational period well below the 25% percentile.\n",
    "However, there are assets that had a smaller operational period and still had maintenance events.\n",
    "\n",
    "Let's check the statistics for time between events to decide whether to consider these 6 assets outliers and exclude them from further exploration."
   ]
  },
  {
   "cell_type": "code",
   "execution_count": null,
   "id": "26ec6367-cb69-494e-a1d6-e333620d8aad",
   "metadata": {},
   "outputs": [],
   "source": [
    "events['time_since_last_event'] = events['event_date'] - events['installed_date']"
   ]
  },
  {
   "cell_type": "code",
   "execution_count": null,
   "id": "31ce67b5-b95c-45ba-bb5b-b9e10cc1a64a",
   "metadata": {},
   "outputs": [],
   "source": [
    "events['time_since_last_event'].describe()"
   ]
  },
  {
   "cell_type": "code",
   "execution_count": null,
   "id": "e4b03aab-2d4d-4705-8e2d-9eaea7289dce",
   "metadata": {},
   "outputs": [],
   "source": [
    "q = 0.9\n",
    "print(events['time_since_last_event'].quantile(q))\n",
    "print(f'# events over quantile {q}: {2032*(1-q)}')"
   ]
  },
  {
   "cell_type": "markdown",
   "id": "41424a78-cd84-466e-9c8d-ee826068c2c0",
   "metadata": {},
   "source": [
    "For 10% of events (~203 events), the time elapsed since the previous event was higher than 321 days.\n",
    "Of the 6 assets than didn't have events, 5 have an operational period below 300 days.\n",
    "This means that it's plausible that these 6 assets didn't have any maintenance events, given their brief operational period, and we'll reject the hypothesis that it's due to missing data in the events table\n",
    "\n",
    "\n",
    "They will not be removed from the analysis when considering only assets' attributes."
   ]
  },
  {
   "cell_type": "markdown",
   "id": "62bff7d4-8c8d-4f56-a0e8-ba054b1d3896",
   "metadata": {},
   "source": [
    "## 1.4. Augment data"
   ]
  },
  {
   "cell_type": "markdown",
   "id": "6c7e643e-ae4b-4eee-b52f-f85b6e738ebf",
   "metadata": {},
   "source": [
    "Let's augment the assets data with the total number of repairs, replacements, average, max and min time between events."
   ]
  },
  {
   "cell_type": "code",
   "execution_count": null,
   "id": "feb01f84-6ada-4163-b651-32ec065bfde7",
   "metadata": {},
   "outputs": [],
   "source": []
  }
 ],
 "metadata": {
  "kernelspec": {
   "display_name": "Python 3 (ipykernel)",
   "language": "python",
   "name": "python3"
  },
  "language_info": {
   "codemirror_mode": {
    "name": "ipython",
    "version": 3
   },
   "file_extension": ".py",
   "mimetype": "text/x-python",
   "name": "python",
   "nbconvert_exporter": "python",
   "pygments_lexer": "ipython3",
   "version": "3.8.10"
  }
 },
 "nbformat": 4,
 "nbformat_minor": 5
}
